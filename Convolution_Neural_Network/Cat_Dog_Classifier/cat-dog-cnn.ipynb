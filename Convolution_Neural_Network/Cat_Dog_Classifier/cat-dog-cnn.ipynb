{
 "cells": [
  {
   "cell_type": "code",
   "execution_count": 1,
   "id": "widespread-anthony",
   "metadata": {
    "execution": {
     "iopub.execute_input": "2021-04-29T17:38:17.609692Z",
     "iopub.status.busy": "2021-04-29T17:38:17.609156Z",
     "iopub.status.idle": "2021-04-29T17:38:22.563757Z",
     "shell.execute_reply": "2021-04-29T17:38:22.562595Z"
    },
    "papermill": {
     "duration": 4.968916,
     "end_time": "2021-04-29T17:38:22.563917",
     "exception": false,
     "start_time": "2021-04-29T17:38:17.595001",
     "status": "completed"
    },
    "tags": []
   },
   "outputs": [],
   "source": [
    "import tensorflow as tf\n",
    "from keras.preprocessing.image import ImageDataGenerator"
   ]
  },
  {
   "cell_type": "code",
   "execution_count": 2,
   "id": "steady-sustainability",
   "metadata": {
    "execution": {
     "iopub.execute_input": "2021-04-29T17:38:22.586274Z",
     "iopub.status.busy": "2021-04-29T17:38:22.585699Z",
     "iopub.status.idle": "2021-04-29T17:38:25.085208Z",
     "shell.execute_reply": "2021-04-29T17:38:25.084737Z"
    },
    "papermill": {
     "duration": 2.512451,
     "end_time": "2021-04-29T17:38:25.085345",
     "exception": false,
     "start_time": "2021-04-29T17:38:22.572894",
     "status": "completed"
    },
    "tags": []
   },
   "outputs": [
    {
     "name": "stdout",
     "output_type": "stream",
     "text": [
      "Found 8005 images belonging to 2 classes.\n"
     ]
    }
   ],
   "source": [
    "# Preprocessing of training data\n",
    "train_dgen = ImageDataGenerator(\n",
    "    rescale=1./255,\n",
    "    shear_range=0.2,\n",
    "    zoom_range=0.2,\n",
    "    horizontal_flip=True)\n",
    "train_data = train_dgen.flow_from_directory(\n",
    "    '../input/cat-and-dog/training_set/training_set',\n",
    "    target_size=(64,64),\n",
    "    batch_size=32,\n",
    "    class_mode='binary')"
   ]
  },
  {
   "cell_type": "code",
   "execution_count": 3,
   "id": "voluntary-seeker",
   "metadata": {
    "execution": {
     "iopub.execute_input": "2021-04-29T17:38:25.107899Z",
     "iopub.status.busy": "2021-04-29T17:38:25.107314Z",
     "iopub.status.idle": "2021-04-29T17:38:25.323663Z",
     "shell.execute_reply": "2021-04-29T17:38:25.324062Z"
    },
    "papermill": {
     "duration": 0.229834,
     "end_time": "2021-04-29T17:38:25.324238",
     "exception": false,
     "start_time": "2021-04-29T17:38:25.094404",
     "status": "completed"
    },
    "tags": []
   },
   "outputs": [
    {
     "name": "stdout",
     "output_type": "stream",
     "text": [
      "Found 2023 images belonging to 2 classes.\n"
     ]
    }
   ],
   "source": [
    "# Preprocessing of test data\n",
    "test_dgen = ImageDataGenerator(rescale=1./255)\n",
    "test_data = test_dgen.flow_from_directory(\n",
    "    '../input/cat-and-dog/test_set/test_set',\n",
    "    target_size=(64,64),\n",
    "    batch_size=32,\n",
    "    class_mode='binary'\n",
    ")"
   ]
  },
  {
   "cell_type": "code",
   "execution_count": 4,
   "id": "frozen-cross",
   "metadata": {
    "execution": {
     "iopub.execute_input": "2021-04-29T17:38:25.348405Z",
     "iopub.status.busy": "2021-04-29T17:38:25.347521Z",
     "iopub.status.idle": "2021-04-29T17:38:25.351942Z",
     "shell.execute_reply": "2021-04-29T17:38:25.351374Z"
    },
    "papermill": {
     "duration": 0.018915,
     "end_time": "2021-04-29T17:38:25.352062",
     "exception": false,
     "start_time": "2021-04-29T17:38:25.333147",
     "status": "completed"
    },
    "tags": []
   },
   "outputs": [
    {
     "data": {
      "text/plain": [
       "'\\nThere are few steps which we have to follow to build CNN model which are following:\\n1.Convolution\\n2.Pooling(particularly Max Pooling)\\n3.Flattening\\n4.Full Connection\\n5.Output Layer(It classfies the Image)\\n'"
      ]
     },
     "execution_count": 4,
     "metadata": {},
     "output_type": "execute_result"
    }
   ],
   "source": [
    "#Building CNN model\n",
    "\"\"\"\n",
    "There are few steps which we have to follow to build CNN model which are following:\n",
    "1.Convolution\n",
    "2.Pooling(particularly Max Pooling)\n",
    "3.Flattening\n",
    "4.Full Connection\n",
    "5.Output Layer(It classfies the Image)\n",
    "\"\"\""
   ]
  },
  {
   "cell_type": "code",
   "execution_count": 5,
   "id": "lonely-geology",
   "metadata": {
    "execution": {
     "iopub.execute_input": "2021-04-29T17:38:25.373884Z",
     "iopub.status.busy": "2021-04-29T17:38:25.373383Z",
     "iopub.status.idle": "2021-04-29T17:38:25.404721Z",
     "shell.execute_reply": "2021-04-29T17:38:25.404245Z"
    },
    "papermill": {
     "duration": 0.043538,
     "end_time": "2021-04-29T17:38:25.404845",
     "exception": false,
     "start_time": "2021-04-29T17:38:25.361307",
     "status": "completed"
    },
    "tags": []
   },
   "outputs": [],
   "source": [
    "#Initialising Model\n",
    "cnn = tf.keras.models.Sequential()"
   ]
  },
  {
   "cell_type": "code",
   "execution_count": 6,
   "id": "compact-arrow",
   "metadata": {
    "execution": {
     "iopub.execute_input": "2021-04-29T17:38:25.426395Z",
     "iopub.status.busy": "2021-04-29T17:38:25.425557Z",
     "iopub.status.idle": "2021-04-29T17:38:25.471379Z",
     "shell.execute_reply": "2021-04-29T17:38:25.470887Z"
    },
    "papermill": {
     "duration": 0.057223,
     "end_time": "2021-04-29T17:38:25.471505",
     "exception": false,
     "start_time": "2021-04-29T17:38:25.414282",
     "status": "completed"
    },
    "tags": []
   },
   "outputs": [],
   "source": [
    "#Convolution layers\n",
    "cnn.add(tf.keras.layers.Conv2D(filters=32, kernel_size=3, activation='relu', input_shape=[64,64,3]))"
   ]
  },
  {
   "cell_type": "code",
   "execution_count": 7,
   "id": "superior-reference",
   "metadata": {
    "execution": {
     "iopub.execute_input": "2021-04-29T17:38:25.495884Z",
     "iopub.status.busy": "2021-04-29T17:38:25.494388Z",
     "iopub.status.idle": "2021-04-29T17:38:25.500070Z",
     "shell.execute_reply": "2021-04-29T17:38:25.499539Z"
    },
    "papermill": {
     "duration": 0.019195,
     "end_time": "2021-04-29T17:38:25.500200",
     "exception": false,
     "start_time": "2021-04-29T17:38:25.481005",
     "status": "completed"
    },
    "tags": []
   },
   "outputs": [],
   "source": [
    "#Pooling layers\n",
    "cnn.add(tf.keras.layers.MaxPool2D(pool_size=2, strides=2))"
   ]
  },
  {
   "cell_type": "code",
   "execution_count": 8,
   "id": "governmental-flight",
   "metadata": {
    "execution": {
     "iopub.execute_input": "2021-04-29T17:38:25.521132Z",
     "iopub.status.busy": "2021-04-29T17:38:25.520637Z",
     "iopub.status.idle": "2021-04-29T17:38:25.536042Z",
     "shell.execute_reply": "2021-04-29T17:38:25.536471Z"
    },
    "papermill": {
     "duration": 0.02704,
     "end_time": "2021-04-29T17:38:25.536639",
     "exception": false,
     "start_time": "2021-04-29T17:38:25.509599",
     "status": "completed"
    },
    "tags": []
   },
   "outputs": [],
   "source": [
    "#Adding second Convolutional layer\n",
    "cnn.add(tf.keras.layers.Conv2D(filters=32, kernel_size=3, activation='relu'))\n",
    "cnn.add(tf.keras.layers.MaxPool2D(pool_size=2, strides=2))"
   ]
  },
  {
   "cell_type": "code",
   "execution_count": 9,
   "id": "frequent-arlington",
   "metadata": {
    "execution": {
     "iopub.execute_input": "2021-04-29T17:38:25.559325Z",
     "iopub.status.busy": "2021-04-29T17:38:25.558801Z",
     "iopub.status.idle": "2021-04-29T17:38:25.566645Z",
     "shell.execute_reply": "2021-04-29T17:38:25.567052Z"
    },
    "papermill": {
     "duration": 0.021084,
     "end_time": "2021-04-29T17:38:25.567201",
     "exception": false,
     "start_time": "2021-04-29T17:38:25.546117",
     "status": "completed"
    },
    "tags": []
   },
   "outputs": [],
   "source": [
    "#Flattening the layer\n",
    "cnn.add(tf.keras.layers.Flatten())"
   ]
  },
  {
   "cell_type": "code",
   "execution_count": 10,
   "id": "illegal-princeton",
   "metadata": {
    "execution": {
     "iopub.execute_input": "2021-04-29T17:38:25.588886Z",
     "iopub.status.busy": "2021-04-29T17:38:25.588359Z",
     "iopub.status.idle": "2021-04-29T17:38:25.603846Z",
     "shell.execute_reply": "2021-04-29T17:38:25.604281Z"
    },
    "papermill": {
     "duration": 0.027625,
     "end_time": "2021-04-29T17:38:25.604422",
     "exception": false,
     "start_time": "2021-04-29T17:38:25.576797",
     "status": "completed"
    },
    "tags": []
   },
   "outputs": [],
   "source": [
    "#Full Connection Layer\n",
    "cnn.add(tf.keras.layers.Dense(units=100, activation='relu'))"
   ]
  },
  {
   "cell_type": "code",
   "execution_count": 11,
   "id": "laden-aaron",
   "metadata": {
    "execution": {
     "iopub.execute_input": "2021-04-29T17:38:25.627032Z",
     "iopub.status.busy": "2021-04-29T17:38:25.626216Z",
     "iopub.status.idle": "2021-04-29T17:38:25.636512Z",
     "shell.execute_reply": "2021-04-29T17:38:25.636926Z"
    },
    "papermill": {
     "duration": 0.022831,
     "end_time": "2021-04-29T17:38:25.637061",
     "exception": false,
     "start_time": "2021-04-29T17:38:25.614230",
     "status": "completed"
    },
    "tags": []
   },
   "outputs": [],
   "source": [
    "#Output Layer\n",
    "cnn.add(tf.keras.layers.Dense(units=1, activation='sigmoid'))"
   ]
  },
  {
   "cell_type": "code",
   "execution_count": 12,
   "id": "north-stranger",
   "metadata": {
    "execution": {
     "iopub.execute_input": "2021-04-29T17:38:25.659634Z",
     "iopub.status.busy": "2021-04-29T17:38:25.658795Z",
     "iopub.status.idle": "2021-04-29T18:03:17.955109Z",
     "shell.execute_reply": "2021-04-29T18:03:17.954535Z"
    },
    "papermill": {
     "duration": 1492.308473,
     "end_time": "2021-04-29T18:03:17.955298",
     "exception": false,
     "start_time": "2021-04-29T17:38:25.646825",
     "status": "completed"
    },
    "tags": []
   },
   "outputs": [
    {
     "name": "stdout",
     "output_type": "stream",
     "text": [
      "Epoch 1/30\n",
      "251/251 [==============================] - 82s 324ms/step - loss: 0.6965 - accuracy: 0.5343 - val_loss: 0.6159 - val_accuracy: 0.6663\n",
      "Epoch 2/30\n",
      "251/251 [==============================] - 46s 184ms/step - loss: 0.5973 - accuracy: 0.6786 - val_loss: 0.5553 - val_accuracy: 0.7257\n",
      "Epoch 3/30\n",
      "251/251 [==============================] - 47s 186ms/step - loss: 0.5532 - accuracy: 0.7162 - val_loss: 0.6042 - val_accuracy: 0.6772\n",
      "Epoch 4/30\n",
      "251/251 [==============================] - 46s 183ms/step - loss: 0.5245 - accuracy: 0.7358 - val_loss: 0.5031 - val_accuracy: 0.7632\n",
      "Epoch 5/30\n",
      "251/251 [==============================] - 46s 183ms/step - loss: 0.5041 - accuracy: 0.7450 - val_loss: 0.5128 - val_accuracy: 0.7573\n",
      "Epoch 6/30\n",
      "251/251 [==============================] - 47s 186ms/step - loss: 0.4901 - accuracy: 0.7598 - val_loss: 0.4789 - val_accuracy: 0.7696\n",
      "Epoch 7/30\n",
      "251/251 [==============================] - 47s 185ms/step - loss: 0.4570 - accuracy: 0.7838 - val_loss: 0.4692 - val_accuracy: 0.7766\n",
      "Epoch 8/30\n",
      "251/251 [==============================] - 47s 186ms/step - loss: 0.4517 - accuracy: 0.7930 - val_loss: 0.4911 - val_accuracy: 0.7741\n",
      "Epoch 9/30\n",
      "251/251 [==============================] - 46s 183ms/step - loss: 0.4414 - accuracy: 0.7910 - val_loss: 0.4814 - val_accuracy: 0.7771\n",
      "Epoch 10/30\n",
      "251/251 [==============================] - 47s 185ms/step - loss: 0.4310 - accuracy: 0.8069 - val_loss: 0.5348 - val_accuracy: 0.7583\n",
      "Epoch 11/30\n",
      "251/251 [==============================] - 49s 194ms/step - loss: 0.4300 - accuracy: 0.8025 - val_loss: 0.5164 - val_accuracy: 0.7494\n",
      "Epoch 12/30\n",
      "251/251 [==============================] - 48s 193ms/step - loss: 0.4104 - accuracy: 0.8119 - val_loss: 0.4652 - val_accuracy: 0.7894\n",
      "Epoch 13/30\n",
      "251/251 [==============================] - 48s 191ms/step - loss: 0.3929 - accuracy: 0.8226 - val_loss: 0.4511 - val_accuracy: 0.7835\n",
      "Epoch 14/30\n",
      "251/251 [==============================] - 49s 195ms/step - loss: 0.4039 - accuracy: 0.8119 - val_loss: 0.4404 - val_accuracy: 0.8033\n",
      "Epoch 15/30\n",
      "251/251 [==============================] - 48s 193ms/step - loss: 0.3814 - accuracy: 0.8229 - val_loss: 0.4403 - val_accuracy: 0.8092\n",
      "Epoch 16/30\n",
      "251/251 [==============================] - 49s 197ms/step - loss: 0.3994 - accuracy: 0.8147 - val_loss: 0.4245 - val_accuracy: 0.8018\n",
      "Epoch 17/30\n",
      "251/251 [==============================] - 50s 199ms/step - loss: 0.3730 - accuracy: 0.8347 - val_loss: 0.5202 - val_accuracy: 0.7746\n",
      "Epoch 18/30\n",
      "251/251 [==============================] - 50s 198ms/step - loss: 0.3575 - accuracy: 0.8394 - val_loss: 0.4724 - val_accuracy: 0.7939\n",
      "Epoch 19/30\n",
      "251/251 [==============================] - 49s 194ms/step - loss: 0.3657 - accuracy: 0.8312 - val_loss: 0.4393 - val_accuracy: 0.7993\n",
      "Epoch 20/30\n",
      "251/251 [==============================] - 49s 196ms/step - loss: 0.3551 - accuracy: 0.8456 - val_loss: 0.4398 - val_accuracy: 0.7968\n",
      "Epoch 21/30\n",
      "251/251 [==============================] - 50s 198ms/step - loss: 0.3367 - accuracy: 0.8477 - val_loss: 0.4288 - val_accuracy: 0.8023\n",
      "Epoch 22/30\n",
      "251/251 [==============================] - 50s 198ms/step - loss: 0.3499 - accuracy: 0.8455 - val_loss: 0.4551 - val_accuracy: 0.8122\n",
      "Epoch 23/30\n",
      "251/251 [==============================] - 49s 196ms/step - loss: 0.3233 - accuracy: 0.8556 - val_loss: 0.4524 - val_accuracy: 0.8166\n",
      "Epoch 24/30\n",
      "251/251 [==============================] - 50s 199ms/step - loss: 0.3137 - accuracy: 0.8636 - val_loss: 0.4364 - val_accuracy: 0.8102\n",
      "Epoch 25/30\n",
      "251/251 [==============================] - 50s 198ms/step - loss: 0.2948 - accuracy: 0.8768 - val_loss: 0.4384 - val_accuracy: 0.8057\n",
      "Epoch 26/30\n",
      "251/251 [==============================] - 49s 197ms/step - loss: 0.3138 - accuracy: 0.8651 - val_loss: 0.4540 - val_accuracy: 0.8067\n",
      "Epoch 27/30\n",
      "251/251 [==============================] - 51s 202ms/step - loss: 0.2953 - accuracy: 0.8719 - val_loss: 0.4613 - val_accuracy: 0.8043\n",
      "Epoch 28/30\n",
      "251/251 [==============================] - 51s 201ms/step - loss: 0.2919 - accuracy: 0.8767 - val_loss: 0.5540 - val_accuracy: 0.7756\n",
      "Epoch 29/30\n",
      "251/251 [==============================] - 52s 206ms/step - loss: 0.2880 - accuracy: 0.8772 - val_loss: 0.5019 - val_accuracy: 0.7949\n",
      "Epoch 30/30\n",
      "251/251 [==============================] - 52s 206ms/step - loss: 0.2780 - accuracy: 0.8817 - val_loss: 0.4512 - val_accuracy: 0.8072\n"
     ]
    },
    {
     "data": {
      "text/plain": [
       "<tensorflow.python.keras.callbacks.History at 0x7fba9f15d090>"
      ]
     },
     "execution_count": 12,
     "metadata": {},
     "output_type": "execute_result"
    }
   ],
   "source": [
    "#Training Model\n",
    "cnn.compile(optimizer='adam', loss='binary_crossentropy', metrics=['accuracy'])\n",
    "cnn.fit(x=train_data, validation_data=test_data, epochs=30)"
   ]
  },
  {
   "cell_type": "code",
   "execution_count": 13,
   "id": "played-paper",
   "metadata": {
    "execution": {
     "iopub.execute_input": "2021-04-29T18:03:21.586336Z",
     "iopub.status.busy": "2021-04-29T18:03:21.585662Z",
     "iopub.status.idle": "2021-04-29T18:03:22.303160Z",
     "shell.execute_reply": "2021-04-29T18:03:22.303872Z"
    },
    "papermill": {
     "duration": 2.523498,
     "end_time": "2021-04-29T18:03:22.304117",
     "exception": false,
     "start_time": "2021-04-29T18:03:19.780619",
     "status": "completed"
    },
    "tags": []
   },
   "outputs": [],
   "source": [
    "import numpy as np\n",
    "from keras.preprocessing import image\n",
    "import matplotlib.pyplot as plt\n",
    "test_img = image.load_img('../input/single-image-prediction/richard-brutyo-Sg3XwuEpybU-unsplash.jpg',target_size=(64,64))\n",
    "test_img = image.img_to_array(test_img)\n",
    "test_img = np.expand_dims(test_img, axis=0)\n",
    "prediction = cnn.predict(test_img)\n",
    "train_data.class_indices\n",
    "if prediction[0][0] ==1:\n",
    "    predict = 'Dog'\n",
    "else:\n",
    "    predict = 'Cat'"
   ]
  },
  {
   "cell_type": "code",
   "execution_count": 14,
   "id": "prescribed-shoot",
   "metadata": {
    "execution": {
     "iopub.execute_input": "2021-04-29T18:03:26.015931Z",
     "iopub.status.busy": "2021-04-29T18:03:26.015311Z",
     "iopub.status.idle": "2021-04-29T18:03:26.018751Z",
     "shell.execute_reply": "2021-04-29T18:03:26.019291Z"
    },
    "papermill": {
     "duration": 1.857781,
     "end_time": "2021-04-29T18:03:26.019466",
     "exception": false,
     "start_time": "2021-04-29T18:03:24.161685",
     "status": "completed"
    },
    "tags": []
   },
   "outputs": [
    {
     "name": "stdout",
     "output_type": "stream",
     "text": [
      "Dog\n"
     ]
    }
   ],
   "source": [
    "print(predict)"
   ]
  },
  {
   "cell_type": "code",
   "execution_count": null,
   "id": "pacific-polyester",
   "metadata": {
    "papermill": {
     "duration": 1.812168,
     "end_time": "2021-04-29T18:03:29.721624",
     "exception": false,
     "start_time": "2021-04-29T18:03:27.909456",
     "status": "completed"
    },
    "tags": []
   },
   "outputs": [],
   "source": []
  }
 ],
 "metadata": {
  "kernelspec": {
   "display_name": "Python 3",
   "language": "python",
   "name": "python3"
  },
  "language_info": {
   "codemirror_mode": {
    "name": "ipython",
    "version": 3
   },
   "file_extension": ".py",
   "mimetype": "text/x-python",
   "name": "python",
   "nbconvert_exporter": "python",
   "pygments_lexer": "ipython3",
   "version": "3.7.9"
  },
  "papermill": {
   "default_parameters": {},
   "duration": 1520.124677,
   "end_time": "2021-04-29T18:03:32.621546",
   "environment_variables": {},
   "exception": null,
   "input_path": "__notebook__.ipynb",
   "output_path": "__notebook__.ipynb",
   "parameters": {},
   "start_time": "2021-04-29T17:38:12.496869",
   "version": "2.3.2"
  }
 },
 "nbformat": 4,
 "nbformat_minor": 5
}
